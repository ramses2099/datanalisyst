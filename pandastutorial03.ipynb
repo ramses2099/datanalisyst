{
 "cells": [
  {
   "cell_type": "code",
   "execution_count": 1,
   "id": "fb31264c-b63a-4193-a9ba-442384bde929",
   "metadata": {},
   "outputs": [],
   "source": [
    "### Reading and view data from csv or json file"
   ]
  },
  {
   "cell_type": "code",
   "execution_count": 2,
   "id": "46025e0c-b5c8-4425-96a9-fcfb0ebe6a31",
   "metadata": {},
   "outputs": [],
   "source": [
    "import pandas as pd"
   ]
  },
  {
   "cell_type": "code",
   "execution_count": 5,
   "id": "8b9450a5-e712-4310-8e8c-312561ff0eec",
   "metadata": {},
   "outputs": [],
   "source": [
    "df = pd.read_csv(\"data\\Iris.csv\")"
   ]
  },
  {
   "cell_type": "code",
   "execution_count": 11,
   "id": "72f8369b-99f6-43a5-879f-4e4b083ce918",
   "metadata": {},
   "outputs": [
    {
     "data": {
      "text/plain": [
       "Index(['Id', 'SepalLengthCm', 'SepalWidthCm', 'PetalLengthCm', 'PetalWidthCm',\n",
       "       'Species'],\n",
       "      dtype='object')"
      ]
     },
     "execution_count": 11,
     "metadata": {},
     "output_type": "execute_result"
    }
   ],
   "source": [
    "df.keys()"
   ]
  },
  {
   "cell_type": "code",
   "execution_count": null,
   "id": "dad17330-2538-435f-a2dc-abeb46af8b78",
   "metadata": {},
   "outputs": [],
   "source": []
  }
 ],
 "metadata": {
  "kernelspec": {
   "display_name": "Python 3 (ipykernel)",
   "language": "python",
   "name": "python3"
  },
  "language_info": {
   "codemirror_mode": {
    "name": "ipython",
    "version": 3
   },
   "file_extension": ".py",
   "mimetype": "text/x-python",
   "name": "python",
   "nbconvert_exporter": "python",
   "pygments_lexer": "ipython3",
   "version": "3.10.10"
  }
 },
 "nbformat": 4,
 "nbformat_minor": 5
}
