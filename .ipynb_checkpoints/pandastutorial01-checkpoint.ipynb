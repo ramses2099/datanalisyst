{
 "cells": [
  {
   "cell_type": "markdown",
   "id": "84a99a43-75f8-45ce-b97f-53432272083e",
   "metadata": {},
   "source": [
    "# Panadas Tutorial 01"
   ]
  },
  {
   "cell_type": "code",
   "execution_count": null,
   "id": "21331e2d-231f-4164-a2f6-5f47fdf8483a",
   "metadata": {},
   "outputs": [],
   "source": []
  }
 ],
 "metadata": {
  "kernelspec": {
   "display_name": "Python 3 (ipykernel)",
   "language": "python",
   "name": "python3"
  },
  "language_info": {
   "codemirror_mode": {
    "name": "ipython",
    "version": 3
   },
   "file_extension": ".py",
   "mimetype": "text/x-python",
   "name": "python",
   "nbconvert_exporter": "python",
   "pygments_lexer": "ipython3",
   "version": "3.10.10"
  }
 },
 "nbformat": 4,
 "nbformat_minor": 5
}
