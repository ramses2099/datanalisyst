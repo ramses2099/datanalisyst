{
 "cells": [
  {
   "cell_type": "markdown",
   "id": "84a99a43-75f8-45ce-b97f-53432272083e",
   "metadata": {},
   "source": [
    "# Panadas Tutorial 01"
   ]
  },
  {
   "cell_type": "code",
   "execution_count": 3,
   "id": "18a0eba9-e5e4-410e-9f7a-dd2750a9e532",
   "metadata": {},
   "outputs": [],
   "source": [
    "### Import pandas library"
   ]
  },
  {
   "cell_type": "code",
   "execution_count": 4,
   "id": "21331e2d-231f-4164-a2f6-5f47fdf8483a",
   "metadata": {},
   "outputs": [],
   "source": [
    "import pandas as pd"
   ]
  },
  {
   "cell_type": "code",
   "execution_count": 5,
   "id": "85d5769c-dc6f-4b3f-9b0e-49a4fc9dff43",
   "metadata": {},
   "outputs": [],
   "source": [
    "### Check version of pandas lib"
   ]
  },
  {
   "cell_type": "code",
   "execution_count": 6,
   "id": "bd9f4ac3-fa00-4bec-b0e5-dcab97211fab",
   "metadata": {},
   "outputs": [
    {
     "data": {
      "text/plain": [
       "'2.0.0'"
      ]
     },
     "execution_count": 6,
     "metadata": {},
     "output_type": "execute_result"
    }
   ],
   "source": [
    "pd.__version__"
   ]
  },
  {
   "cell_type": "code",
   "execution_count": 7,
   "id": "d90ec9a8-79e3-4dfb-9b98-0debdd3b88ec",
   "metadata": {},
   "outputs": [],
   "source": [
    "### Create DataFrame from dictionary"
   ]
  },
  {
   "cell_type": "code",
   "execution_count": 11,
   "id": "1b97b49c-ffbd-4719-80f7-b20d74fc37e0",
   "metadata": {},
   "outputs": [],
   "source": [
    "mydataset ={\n",
    "    \"cars\":[\"bmw\",\"skoda\"],\n",
    "    \"values\":[\"1\",\"2\"]\n",
    "}\n",
    "\n",
    "df = pd.DataFrame(mydataset)"
   ]
  },
  {
   "cell_type": "code",
   "execution_count": 12,
   "id": "fdccf9e0-bbb5-42d1-b9fb-e5389fe2c0d8",
   "metadata": {},
   "outputs": [
    {
     "data": {
      "text/html": [
       "<div>\n",
       "<style scoped>\n",
       "    .dataframe tbody tr th:only-of-type {\n",
       "        vertical-align: middle;\n",
       "    }\n",
       "\n",
       "    .dataframe tbody tr th {\n",
       "        vertical-align: top;\n",
       "    }\n",
       "\n",
       "    .dataframe thead th {\n",
       "        text-align: right;\n",
       "    }\n",
       "</style>\n",
       "<table border=\"1\" class=\"dataframe\">\n",
       "  <thead>\n",
       "    <tr style=\"text-align: right;\">\n",
       "      <th></th>\n",
       "      <th>cars</th>\n",
       "      <th>values</th>\n",
       "    </tr>\n",
       "  </thead>\n",
       "  <tbody>\n",
       "    <tr>\n",
       "      <th>0</th>\n",
       "      <td>bmw</td>\n",
       "      <td>1</td>\n",
       "    </tr>\n",
       "    <tr>\n",
       "      <th>1</th>\n",
       "      <td>skoda</td>\n",
       "      <td>2</td>\n",
       "    </tr>\n",
       "  </tbody>\n",
       "</table>\n",
       "</div>"
      ],
      "text/plain": [
       "    cars values\n",
       "0    bmw      1\n",
       "1  skoda      2"
      ]
     },
     "execution_count": 12,
     "metadata": {},
     "output_type": "execute_result"
    }
   ],
   "source": [
    "df"
   ]
  },
  {
   "cell_type": "code",
   "execution_count": 13,
   "id": "6dc10878-fd04-4b59-84f0-4b41d1aa46ef",
   "metadata": {},
   "outputs": [],
   "source": [
    "### Create a Pandas Series for array"
   ]
  },
  {
   "cell_type": "code",
   "execution_count": 14,
   "id": "b391b4aa-a669-44ea-aace-a044f1025253",
   "metadata": {},
   "outputs": [],
   "source": [
    "my_array = [12,34,100]"
   ]
  },
  {
   "cell_type": "code",
   "execution_count": 15,
   "id": "3d910824-0a8d-4eb2-92c2-f9f275f1ee61",
   "metadata": {},
   "outputs": [],
   "source": [
    "sr = pd.Series(data = my_array)"
   ]
  },
  {
   "cell_type": "code",
   "execution_count": 16,
   "id": "fc5caec7-dbdd-4152-82c4-9c8bbacc3c53",
   "metadata": {},
   "outputs": [
    {
     "data": {
      "text/plain": [
       "0     12\n",
       "1     34\n",
       "2    100\n",
       "dtype: int64"
      ]
     },
     "execution_count": 16,
     "metadata": {},
     "output_type": "execute_result"
    }
   ],
   "source": [
    "sr"
   ]
  },
  {
   "cell_type": "code",
   "execution_count": null,
   "id": "63d6b42b-b23a-4d02-9e37-0a1e43405c6c",
   "metadata": {},
   "outputs": [],
   "source": []
  }
 ],
 "metadata": {
  "kernelspec": {
   "display_name": "Python 3 (ipykernel)",
   "language": "python",
   "name": "python3"
  },
  "language_info": {
   "codemirror_mode": {
    "name": "ipython",
    "version": 3
   },
   "file_extension": ".py",
   "mimetype": "text/x-python",
   "name": "python",
   "nbconvert_exporter": "python",
   "pygments_lexer": "ipython3",
   "version": "3.10.10"
  }
 },
 "nbformat": 4,
 "nbformat_minor": 5
}
