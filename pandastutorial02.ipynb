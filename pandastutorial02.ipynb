{
 "cells": [
  {
   "cell_type": "code",
   "execution_count": 1,
   "id": "caa6e1de-a27f-42cb-a395-39a2cd40b0ac",
   "metadata": {},
   "outputs": [],
   "source": [
    "### Import pandas lib"
   ]
  },
  {
   "cell_type": "code",
   "execution_count": 2,
   "id": "b1d794e7-d625-466a-a9ce-fa931999c842",
   "metadata": {},
   "outputs": [],
   "source": [
    "import pandas as pd\n",
    "import numpy as pn"
   ]
  },
  {
   "cell_type": "code",
   "execution_count": 3,
   "id": "d345adb8-7cbd-4624-af52-1df6535619bd",
   "metadata": {},
   "outputs": [],
   "source": [
    "from numpy.random import randn"
   ]
  },
  {
   "cell_type": "code",
   "execution_count": 8,
   "id": "e1dd1730-1a01-4da1-a1fc-3dc679caa7a6",
   "metadata": {},
   "outputs": [],
   "source": [
    "labels = [\"A\",\"B\",\"C\",\"D\",\"E\"]\n",
    "cols = [\"X\",\"W\",\"Y\",\"Z\"]\n",
    "df = pd.DataFrame(randn(5,4), index=labels, columns=cols)"
   ]
  },
  {
   "cell_type": "code",
   "execution_count": 9,
   "id": "c7ee7362-603a-4a83-a23d-61b386ea0cfc",
   "metadata": {},
   "outputs": [
    {
     "data": {
      "text/html": [
       "<div>\n",
       "<style scoped>\n",
       "    .dataframe tbody tr th:only-of-type {\n",
       "        vertical-align: middle;\n",
       "    }\n",
       "\n",
       "    .dataframe tbody tr th {\n",
       "        vertical-align: top;\n",
       "    }\n",
       "\n",
       "    .dataframe thead th {\n",
       "        text-align: right;\n",
       "    }\n",
       "</style>\n",
       "<table border=\"1\" class=\"dataframe\">\n",
       "  <thead>\n",
       "    <tr style=\"text-align: right;\">\n",
       "      <th></th>\n",
       "      <th>X</th>\n",
       "      <th>W</th>\n",
       "      <th>Y</th>\n",
       "      <th>Z</th>\n",
       "    </tr>\n",
       "  </thead>\n",
       "  <tbody>\n",
       "    <tr>\n",
       "      <th>A</th>\n",
       "      <td>-0.895295</td>\n",
       "      <td>1.050981</td>\n",
       "      <td>-1.014551</td>\n",
       "      <td>0.789658</td>\n",
       "    </tr>\n",
       "    <tr>\n",
       "      <th>B</th>\n",
       "      <td>-1.040583</td>\n",
       "      <td>0.332350</td>\n",
       "      <td>0.530872</td>\n",
       "      <td>-0.944379</td>\n",
       "    </tr>\n",
       "    <tr>\n",
       "      <th>C</th>\n",
       "      <td>0.781520</td>\n",
       "      <td>0.500381</td>\n",
       "      <td>0.278534</td>\n",
       "      <td>0.671250</td>\n",
       "    </tr>\n",
       "    <tr>\n",
       "      <th>D</th>\n",
       "      <td>1.466806</td>\n",
       "      <td>0.546867</td>\n",
       "      <td>0.712756</td>\n",
       "      <td>-0.209334</td>\n",
       "    </tr>\n",
       "    <tr>\n",
       "      <th>E</th>\n",
       "      <td>0.806697</td>\n",
       "      <td>-0.457673</td>\n",
       "      <td>0.468977</td>\n",
       "      <td>2.066548</td>\n",
       "    </tr>\n",
       "  </tbody>\n",
       "</table>\n",
       "</div>"
      ],
      "text/plain": [
       "          X         W         Y         Z\n",
       "A -0.895295  1.050981 -1.014551  0.789658\n",
       "B -1.040583  0.332350  0.530872 -0.944379\n",
       "C  0.781520  0.500381  0.278534  0.671250\n",
       "D  1.466806  0.546867  0.712756 -0.209334\n",
       "E  0.806697 -0.457673  0.468977  2.066548"
      ]
     },
     "execution_count": 9,
     "metadata": {},
     "output_type": "execute_result"
    }
   ],
   "source": [
    "df"
   ]
  },
  {
   "cell_type": "code",
   "execution_count": 13,
   "id": "fbace0f7-4d5b-427a-982d-8e0a8435990f",
   "metadata": {},
   "outputs": [
    {
     "data": {
      "text/html": [
       "<div>\n",
       "<style scoped>\n",
       "    .dataframe tbody tr th:only-of-type {\n",
       "        vertical-align: middle;\n",
       "    }\n",
       "\n",
       "    .dataframe tbody tr th {\n",
       "        vertical-align: top;\n",
       "    }\n",
       "\n",
       "    .dataframe thead th {\n",
       "        text-align: right;\n",
       "    }\n",
       "</style>\n",
       "<table border=\"1\" class=\"dataframe\">\n",
       "  <thead>\n",
       "    <tr style=\"text-align: right;\">\n",
       "      <th></th>\n",
       "      <th>X</th>\n",
       "      <th>Z</th>\n",
       "    </tr>\n",
       "  </thead>\n",
       "  <tbody>\n",
       "    <tr>\n",
       "      <th>A</th>\n",
       "      <td>-0.895295</td>\n",
       "      <td>0.789658</td>\n",
       "    </tr>\n",
       "    <tr>\n",
       "      <th>B</th>\n",
       "      <td>-1.040583</td>\n",
       "      <td>-0.944379</td>\n",
       "    </tr>\n",
       "    <tr>\n",
       "      <th>C</th>\n",
       "      <td>0.781520</td>\n",
       "      <td>0.671250</td>\n",
       "    </tr>\n",
       "    <tr>\n",
       "      <th>D</th>\n",
       "      <td>1.466806</td>\n",
       "      <td>-0.209334</td>\n",
       "    </tr>\n",
       "    <tr>\n",
       "      <th>E</th>\n",
       "      <td>0.806697</td>\n",
       "      <td>2.066548</td>\n",
       "    </tr>\n",
       "  </tbody>\n",
       "</table>\n",
       "</div>"
      ],
      "text/plain": [
       "          X         Z\n",
       "A -0.895295  0.789658\n",
       "B -1.040583 -0.944379\n",
       "C  0.781520  0.671250\n",
       "D  1.466806 -0.209334\n",
       "E  0.806697  2.066548"
      ]
     },
     "execution_count": 13,
     "metadata": {},
     "output_type": "execute_result"
    }
   ],
   "source": [
    "df[[\"X\",\"Z\"]]"
   ]
  },
  {
   "cell_type": "code",
   "execution_count": 14,
   "id": "eeab8c5e-72d6-4578-9e42-895e35ee0c30",
   "metadata": {},
   "outputs": [
    {
     "data": {
      "text/plain": [
       "pandas.core.series.Series"
      ]
     },
     "execution_count": 14,
     "metadata": {},
     "output_type": "execute_result"
    }
   ],
   "source": [
    "type(df[\"Z\"])"
   ]
  },
  {
   "cell_type": "code",
   "execution_count": 15,
   "id": "e3cdf55e-3b76-4361-a065-e74297b6469c",
   "metadata": {},
   "outputs": [],
   "source": [
    "### adding new columns to dataframe"
   ]
  },
  {
   "cell_type": "code",
   "execution_count": 16,
   "id": "15742d5a-aa8c-4070-a231-0bf008a2a666",
   "metadata": {},
   "outputs": [],
   "source": [
    "df[\"T\"] = [1,23,32,45,53]"
   ]
  },
  {
   "cell_type": "code",
   "execution_count": 17,
   "id": "0fe1696d-3ef8-4e9b-8666-f714d023eec0",
   "metadata": {},
   "outputs": [
    {
     "data": {
      "text/html": [
       "<div>\n",
       "<style scoped>\n",
       "    .dataframe tbody tr th:only-of-type {\n",
       "        vertical-align: middle;\n",
       "    }\n",
       "\n",
       "    .dataframe tbody tr th {\n",
       "        vertical-align: top;\n",
       "    }\n",
       "\n",
       "    .dataframe thead th {\n",
       "        text-align: right;\n",
       "    }\n",
       "</style>\n",
       "<table border=\"1\" class=\"dataframe\">\n",
       "  <thead>\n",
       "    <tr style=\"text-align: right;\">\n",
       "      <th></th>\n",
       "      <th>X</th>\n",
       "      <th>W</th>\n",
       "      <th>Y</th>\n",
       "      <th>Z</th>\n",
       "      <th>T</th>\n",
       "    </tr>\n",
       "  </thead>\n",
       "  <tbody>\n",
       "    <tr>\n",
       "      <th>A</th>\n",
       "      <td>-0.895295</td>\n",
       "      <td>1.050981</td>\n",
       "      <td>-1.014551</td>\n",
       "      <td>0.789658</td>\n",
       "      <td>1</td>\n",
       "    </tr>\n",
       "    <tr>\n",
       "      <th>B</th>\n",
       "      <td>-1.040583</td>\n",
       "      <td>0.332350</td>\n",
       "      <td>0.530872</td>\n",
       "      <td>-0.944379</td>\n",
       "      <td>23</td>\n",
       "    </tr>\n",
       "    <tr>\n",
       "      <th>C</th>\n",
       "      <td>0.781520</td>\n",
       "      <td>0.500381</td>\n",
       "      <td>0.278534</td>\n",
       "      <td>0.671250</td>\n",
       "      <td>32</td>\n",
       "    </tr>\n",
       "    <tr>\n",
       "      <th>D</th>\n",
       "      <td>1.466806</td>\n",
       "      <td>0.546867</td>\n",
       "      <td>0.712756</td>\n",
       "      <td>-0.209334</td>\n",
       "      <td>45</td>\n",
       "    </tr>\n",
       "    <tr>\n",
       "      <th>E</th>\n",
       "      <td>0.806697</td>\n",
       "      <td>-0.457673</td>\n",
       "      <td>0.468977</td>\n",
       "      <td>2.066548</td>\n",
       "      <td>53</td>\n",
       "    </tr>\n",
       "  </tbody>\n",
       "</table>\n",
       "</div>"
      ],
      "text/plain": [
       "          X         W         Y         Z   T\n",
       "A -0.895295  1.050981 -1.014551  0.789658   1\n",
       "B -1.040583  0.332350  0.530872 -0.944379  23\n",
       "C  0.781520  0.500381  0.278534  0.671250  32\n",
       "D  1.466806  0.546867  0.712756 -0.209334  45\n",
       "E  0.806697 -0.457673  0.468977  2.066548  53"
      ]
     },
     "execution_count": 17,
     "metadata": {},
     "output_type": "execute_result"
    }
   ],
   "source": [
    "df"
   ]
  },
  {
   "cell_type": "code",
   "execution_count": 18,
   "id": "02fe3105-a5e1-4c2b-86a7-f59402f71d65",
   "metadata": {},
   "outputs": [],
   "source": [
    "### remove columns from dataframe"
   ]
  },
  {
   "cell_type": "code",
   "execution_count": 19,
   "id": "48e7e4cd-b97a-411f-b4ae-367599719be8",
   "metadata": {},
   "outputs": [
    {
     "data": {
      "text/html": [
       "<div>\n",
       "<style scoped>\n",
       "    .dataframe tbody tr th:only-of-type {\n",
       "        vertical-align: middle;\n",
       "    }\n",
       "\n",
       "    .dataframe tbody tr th {\n",
       "        vertical-align: top;\n",
       "    }\n",
       "\n",
       "    .dataframe thead th {\n",
       "        text-align: right;\n",
       "    }\n",
       "</style>\n",
       "<table border=\"1\" class=\"dataframe\">\n",
       "  <thead>\n",
       "    <tr style=\"text-align: right;\">\n",
       "      <th></th>\n",
       "      <th>X</th>\n",
       "      <th>W</th>\n",
       "      <th>Y</th>\n",
       "      <th>Z</th>\n",
       "    </tr>\n",
       "  </thead>\n",
       "  <tbody>\n",
       "    <tr>\n",
       "      <th>A</th>\n",
       "      <td>-0.895295</td>\n",
       "      <td>1.050981</td>\n",
       "      <td>-1.014551</td>\n",
       "      <td>0.789658</td>\n",
       "    </tr>\n",
       "    <tr>\n",
       "      <th>B</th>\n",
       "      <td>-1.040583</td>\n",
       "      <td>0.332350</td>\n",
       "      <td>0.530872</td>\n",
       "      <td>-0.944379</td>\n",
       "    </tr>\n",
       "    <tr>\n",
       "      <th>C</th>\n",
       "      <td>0.781520</td>\n",
       "      <td>0.500381</td>\n",
       "      <td>0.278534</td>\n",
       "      <td>0.671250</td>\n",
       "    </tr>\n",
       "    <tr>\n",
       "      <th>D</th>\n",
       "      <td>1.466806</td>\n",
       "      <td>0.546867</td>\n",
       "      <td>0.712756</td>\n",
       "      <td>-0.209334</td>\n",
       "    </tr>\n",
       "    <tr>\n",
       "      <th>E</th>\n",
       "      <td>0.806697</td>\n",
       "      <td>-0.457673</td>\n",
       "      <td>0.468977</td>\n",
       "      <td>2.066548</td>\n",
       "    </tr>\n",
       "  </tbody>\n",
       "</table>\n",
       "</div>"
      ],
      "text/plain": [
       "          X         W         Y         Z\n",
       "A -0.895295  1.050981 -1.014551  0.789658\n",
       "B -1.040583  0.332350  0.530872 -0.944379\n",
       "C  0.781520  0.500381  0.278534  0.671250\n",
       "D  1.466806  0.546867  0.712756 -0.209334\n",
       "E  0.806697 -0.457673  0.468977  2.066548"
      ]
     },
     "execution_count": 19,
     "metadata": {},
     "output_type": "execute_result"
    }
   ],
   "source": [
    "df.drop(\"T\", axis=1)"
   ]
  },
  {
   "cell_type": "code",
   "execution_count": 20,
   "id": "9b974a97-b90e-4b3c-8480-1e29ceb587c6",
   "metadata": {},
   "outputs": [
    {
     "data": {
      "text/html": [
       "<div>\n",
       "<style scoped>\n",
       "    .dataframe tbody tr th:only-of-type {\n",
       "        vertical-align: middle;\n",
       "    }\n",
       "\n",
       "    .dataframe tbody tr th {\n",
       "        vertical-align: top;\n",
       "    }\n",
       "\n",
       "    .dataframe thead th {\n",
       "        text-align: right;\n",
       "    }\n",
       "</style>\n",
       "<table border=\"1\" class=\"dataframe\">\n",
       "  <thead>\n",
       "    <tr style=\"text-align: right;\">\n",
       "      <th></th>\n",
       "      <th>X</th>\n",
       "      <th>W</th>\n",
       "      <th>Y</th>\n",
       "      <th>Z</th>\n",
       "      <th>T</th>\n",
       "    </tr>\n",
       "  </thead>\n",
       "  <tbody>\n",
       "    <tr>\n",
       "      <th>A</th>\n",
       "      <td>-0.895295</td>\n",
       "      <td>1.050981</td>\n",
       "      <td>-1.014551</td>\n",
       "      <td>0.789658</td>\n",
       "      <td>1</td>\n",
       "    </tr>\n",
       "    <tr>\n",
       "      <th>B</th>\n",
       "      <td>-1.040583</td>\n",
       "      <td>0.332350</td>\n",
       "      <td>0.530872</td>\n",
       "      <td>-0.944379</td>\n",
       "      <td>23</td>\n",
       "    </tr>\n",
       "    <tr>\n",
       "      <th>C</th>\n",
       "      <td>0.781520</td>\n",
       "      <td>0.500381</td>\n",
       "      <td>0.278534</td>\n",
       "      <td>0.671250</td>\n",
       "      <td>32</td>\n",
       "    </tr>\n",
       "    <tr>\n",
       "      <th>D</th>\n",
       "      <td>1.466806</td>\n",
       "      <td>0.546867</td>\n",
       "      <td>0.712756</td>\n",
       "      <td>-0.209334</td>\n",
       "      <td>45</td>\n",
       "    </tr>\n",
       "    <tr>\n",
       "      <th>E</th>\n",
       "      <td>0.806697</td>\n",
       "      <td>-0.457673</td>\n",
       "      <td>0.468977</td>\n",
       "      <td>2.066548</td>\n",
       "      <td>53</td>\n",
       "    </tr>\n",
       "  </tbody>\n",
       "</table>\n",
       "</div>"
      ],
      "text/plain": [
       "          X         W         Y         Z   T\n",
       "A -0.895295  1.050981 -1.014551  0.789658   1\n",
       "B -1.040583  0.332350  0.530872 -0.944379  23\n",
       "C  0.781520  0.500381  0.278534  0.671250  32\n",
       "D  1.466806  0.546867  0.712756 -0.209334  45\n",
       "E  0.806697 -0.457673  0.468977  2.066548  53"
      ]
     },
     "execution_count": 20,
     "metadata": {},
     "output_type": "execute_result"
    }
   ],
   "source": [
    "df"
   ]
  },
  {
   "cell_type": "code",
   "execution_count": 21,
   "id": "3b2afdaa-cf76-4470-b3de-39f6674dd2f6",
   "metadata": {},
   "outputs": [],
   "source": [
    "df.drop(\"T\", axis=1, inplace=True)"
   ]
  },
  {
   "cell_type": "code",
   "execution_count": 22,
   "id": "1f3efdee-a5ff-40f2-afde-18d80dd42574",
   "metadata": {},
   "outputs": [
    {
     "data": {
      "text/html": [
       "<div>\n",
       "<style scoped>\n",
       "    .dataframe tbody tr th:only-of-type {\n",
       "        vertical-align: middle;\n",
       "    }\n",
       "\n",
       "    .dataframe tbody tr th {\n",
       "        vertical-align: top;\n",
       "    }\n",
       "\n",
       "    .dataframe thead th {\n",
       "        text-align: right;\n",
       "    }\n",
       "</style>\n",
       "<table border=\"1\" class=\"dataframe\">\n",
       "  <thead>\n",
       "    <tr style=\"text-align: right;\">\n",
       "      <th></th>\n",
       "      <th>X</th>\n",
       "      <th>W</th>\n",
       "      <th>Y</th>\n",
       "      <th>Z</th>\n",
       "    </tr>\n",
       "  </thead>\n",
       "  <tbody>\n",
       "    <tr>\n",
       "      <th>A</th>\n",
       "      <td>-0.895295</td>\n",
       "      <td>1.050981</td>\n",
       "      <td>-1.014551</td>\n",
       "      <td>0.789658</td>\n",
       "    </tr>\n",
       "    <tr>\n",
       "      <th>B</th>\n",
       "      <td>-1.040583</td>\n",
       "      <td>0.332350</td>\n",
       "      <td>0.530872</td>\n",
       "      <td>-0.944379</td>\n",
       "    </tr>\n",
       "    <tr>\n",
       "      <th>C</th>\n",
       "      <td>0.781520</td>\n",
       "      <td>0.500381</td>\n",
       "      <td>0.278534</td>\n",
       "      <td>0.671250</td>\n",
       "    </tr>\n",
       "    <tr>\n",
       "      <th>D</th>\n",
       "      <td>1.466806</td>\n",
       "      <td>0.546867</td>\n",
       "      <td>0.712756</td>\n",
       "      <td>-0.209334</td>\n",
       "    </tr>\n",
       "    <tr>\n",
       "      <th>E</th>\n",
       "      <td>0.806697</td>\n",
       "      <td>-0.457673</td>\n",
       "      <td>0.468977</td>\n",
       "      <td>2.066548</td>\n",
       "    </tr>\n",
       "  </tbody>\n",
       "</table>\n",
       "</div>"
      ],
      "text/plain": [
       "          X         W         Y         Z\n",
       "A -0.895295  1.050981 -1.014551  0.789658\n",
       "B -1.040583  0.332350  0.530872 -0.944379\n",
       "C  0.781520  0.500381  0.278534  0.671250\n",
       "D  1.466806  0.546867  0.712756 -0.209334\n",
       "E  0.806697 -0.457673  0.468977  2.066548"
      ]
     },
     "execution_count": 22,
     "metadata": {},
     "output_type": "execute_result"
    }
   ],
   "source": [
    "df"
   ]
  },
  {
   "cell_type": "code",
   "execution_count": 23,
   "id": "451f4fd2-26ad-4e6f-8016-7832ed27cd34",
   "metadata": {},
   "outputs": [
    {
     "data": {
      "text/plain": [
       "X   -0.895295\n",
       "W    1.050981\n",
       "Y   -1.014551\n",
       "Z    0.789658\n",
       "Name: A, dtype: float64"
      ]
     },
     "execution_count": 23,
     "metadata": {},
     "output_type": "execute_result"
    }
   ],
   "source": [
    "df.iloc[0]"
   ]
  },
  {
   "cell_type": "code",
   "execution_count": 25,
   "id": "4fcbdac5-576e-41ce-af84-63461d383293",
   "metadata": {},
   "outputs": [],
   "source": [
    "### Selecting cell from row A, column Z"
   ]
  },
  {
   "cell_type": "code",
   "execution_count": 26,
   "id": "d7400bc8-e6ca-4c9c-ab69-8762e560ad72",
   "metadata": {},
   "outputs": [
    {
     "data": {
      "text/plain": [
       "0.7896582327312367"
      ]
     },
     "execution_count": 26,
     "metadata": {},
     "output_type": "execute_result"
    }
   ],
   "source": [
    "df.loc[\"A\",\"Z\"]"
   ]
  },
  {
   "cell_type": "code",
   "execution_count": 27,
   "id": "29bd33ba-851f-41ed-a966-bc723237d461",
   "metadata": {},
   "outputs": [
    {
     "data": {
      "text/html": [
       "<div>\n",
       "<style scoped>\n",
       "    .dataframe tbody tr th:only-of-type {\n",
       "        vertical-align: middle;\n",
       "    }\n",
       "\n",
       "    .dataframe tbody tr th {\n",
       "        vertical-align: top;\n",
       "    }\n",
       "\n",
       "    .dataframe thead th {\n",
       "        text-align: right;\n",
       "    }\n",
       "</style>\n",
       "<table border=\"1\" class=\"dataframe\">\n",
       "  <thead>\n",
       "    <tr style=\"text-align: right;\">\n",
       "      <th></th>\n",
       "      <th>X</th>\n",
       "      <th>W</th>\n",
       "      <th>Y</th>\n",
       "      <th>Z</th>\n",
       "    </tr>\n",
       "  </thead>\n",
       "  <tbody>\n",
       "    <tr>\n",
       "      <th>A</th>\n",
       "      <td>-0.895295</td>\n",
       "      <td>1.050981</td>\n",
       "      <td>-1.014551</td>\n",
       "      <td>0.789658</td>\n",
       "    </tr>\n",
       "    <tr>\n",
       "      <th>B</th>\n",
       "      <td>-1.040583</td>\n",
       "      <td>0.332350</td>\n",
       "      <td>0.530872</td>\n",
       "      <td>-0.944379</td>\n",
       "    </tr>\n",
       "    <tr>\n",
       "      <th>C</th>\n",
       "      <td>0.781520</td>\n",
       "      <td>0.500381</td>\n",
       "      <td>0.278534</td>\n",
       "      <td>0.671250</td>\n",
       "    </tr>\n",
       "    <tr>\n",
       "      <th>D</th>\n",
       "      <td>1.466806</td>\n",
       "      <td>0.546867</td>\n",
       "      <td>0.712756</td>\n",
       "      <td>-0.209334</td>\n",
       "    </tr>\n",
       "    <tr>\n",
       "      <th>E</th>\n",
       "      <td>0.806697</td>\n",
       "      <td>-0.457673</td>\n",
       "      <td>0.468977</td>\n",
       "      <td>2.066548</td>\n",
       "    </tr>\n",
       "  </tbody>\n",
       "</table>\n",
       "</div>"
      ],
      "text/plain": [
       "          X         W         Y         Z\n",
       "A -0.895295  1.050981 -1.014551  0.789658\n",
       "B -1.040583  0.332350  0.530872 -0.944379\n",
       "C  0.781520  0.500381  0.278534  0.671250\n",
       "D  1.466806  0.546867  0.712756 -0.209334\n",
       "E  0.806697 -0.457673  0.468977  2.066548"
      ]
     },
     "execution_count": 27,
     "metadata": {},
     "output_type": "execute_result"
    }
   ],
   "source": [
    "df"
   ]
  },
  {
   "cell_type": "code",
   "execution_count": 29,
   "id": "422003d9-6ebb-4702-a765-893701d49ccd",
   "metadata": {},
   "outputs": [],
   "source": [
    "### Selecting by conditional operation"
   ]
  },
  {
   "cell_type": "code",
   "execution_count": 31,
   "id": "ee433047-80ca-47d4-9f5b-0f402d6d5acc",
   "metadata": {},
   "outputs": [
    {
     "data": {
      "text/html": [
       "<div>\n",
       "<style scoped>\n",
       "    .dataframe tbody tr th:only-of-type {\n",
       "        vertical-align: middle;\n",
       "    }\n",
       "\n",
       "    .dataframe tbody tr th {\n",
       "        vertical-align: top;\n",
       "    }\n",
       "\n",
       "    .dataframe thead th {\n",
       "        text-align: right;\n",
       "    }\n",
       "</style>\n",
       "<table border=\"1\" class=\"dataframe\">\n",
       "  <thead>\n",
       "    <tr style=\"text-align: right;\">\n",
       "      <th></th>\n",
       "      <th>X</th>\n",
       "      <th>W</th>\n",
       "      <th>Y</th>\n",
       "      <th>Z</th>\n",
       "    </tr>\n",
       "  </thead>\n",
       "  <tbody>\n",
       "    <tr>\n",
       "      <th>C</th>\n",
       "      <td>0.781520</td>\n",
       "      <td>0.500381</td>\n",
       "      <td>0.278534</td>\n",
       "      <td>0.671250</td>\n",
       "    </tr>\n",
       "    <tr>\n",
       "      <th>D</th>\n",
       "      <td>1.466806</td>\n",
       "      <td>0.546867</td>\n",
       "      <td>0.712756</td>\n",
       "      <td>-0.209334</td>\n",
       "    </tr>\n",
       "    <tr>\n",
       "      <th>E</th>\n",
       "      <td>0.806697</td>\n",
       "      <td>-0.457673</td>\n",
       "      <td>0.468977</td>\n",
       "      <td>2.066548</td>\n",
       "    </tr>\n",
       "  </tbody>\n",
       "</table>\n",
       "</div>"
      ],
      "text/plain": [
       "          X         W         Y         Z\n",
       "C  0.781520  0.500381  0.278534  0.671250\n",
       "D  1.466806  0.546867  0.712756 -0.209334\n",
       "E  0.806697 -0.457673  0.468977  2.066548"
      ]
     },
     "execution_count": 31,
     "metadata": {},
     "output_type": "execute_result"
    }
   ],
   "source": [
    "fil =(df[\"X\"]>0)\n",
    "df[fil]"
   ]
  },
  {
   "cell_type": "code",
   "execution_count": null,
   "id": "5e6a81e0-166e-4ac6-befe-bb659dd2a2dd",
   "metadata": {},
   "outputs": [],
   "source": []
  }
 ],
 "metadata": {
  "kernelspec": {
   "display_name": "Python 3 (ipykernel)",
   "language": "python",
   "name": "python3"
  },
  "language_info": {
   "codemirror_mode": {
    "name": "ipython",
    "version": 3
   },
   "file_extension": ".py",
   "mimetype": "text/x-python",
   "name": "python",
   "nbconvert_exporter": "python",
   "pygments_lexer": "ipython3",
   "version": "3.10.10"
  }
 },
 "nbformat": 4,
 "nbformat_minor": 5
}
